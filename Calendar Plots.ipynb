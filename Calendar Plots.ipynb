{
 "cells": [
  {
   "cell_type": "markdown",
   "metadata": {},
   "source": [
    "Create an annotated calendar plot using the create_calendar function. \n",
    "\n",
    "In this example gist, hue of the cell denotes the traffic observed in the store while the text in each cell denotes the sales. \n",
    "\n",
    "st_date, end_date are datetime.date objects that can be used to filter the data that needs to be plotted. \n"
   ]
  },
  {
   "cell_type": "code",
   "execution_count": 1,
   "metadata": {},
   "outputs": [
    {
     "data": {
      "text/html": [
       "<script>requirejs.config({paths: { 'plotly': ['https://cdn.plot.ly/plotly-latest.min']},});if(!window.Plotly) {{require(['plotly'],function(plotly) {window.Plotly=plotly;});}}</script>"
      ],
      "text/vnd.plotly.v1+html": [
       "<script>requirejs.config({paths: { 'plotly': ['https://cdn.plot.ly/plotly-latest.min']},});if(!window.Plotly) {{require(['plotly'],function(plotly) {window.Plotly=plotly;});}}</script>"
      ]
     },
     "metadata": {},
     "output_type": "display_data"
    }
   ],
   "source": [
    "import os\n",
    "import numpy as np\n",
    "import pandas as pd\n",
    "import datetime\n",
    "\n",
    "import plotly.graph_objs as go\n",
    "from plotly.offline import init_notebook_mode, iplot\n",
    "\n",
    "init_notebook_mode(connected=True)"
   ]
  },
  {
   "cell_type": "code",
   "execution_count": 2,
   "metadata": {},
   "outputs": [],
   "source": [
    "def get_dummy_data(n, st_date = datetime.date(2019, 1, 1)):\n",
    "    \n",
    "    df = pd.DataFrame({'date':[st_date + datetime.timedelta(i) for i in range(n)],\n",
    "                       'traffic':np.random.normal(100, 50, n).astype(int), \n",
    "                       'sales': np.random.normal(1000, 500, n).astype(int)})\n",
    "    \n",
    "    return df\n"
   ]
  },
  {
   "cell_type": "code",
   "execution_count": 3,
   "metadata": {},
   "outputs": [],
   "source": [
    "def create_calendar(df, st_date, end_date, text_var='sales', hue_var='traffic'):\n",
    "    \n",
    "        \n",
    "    df = df[(df['date']>=st_date) & (df['date']<=end_date)].copy().reset_index(drop=True)\n",
    "    df['dow'] = [x.weekday() for x in df['date']]\n",
    "    \n",
    "    \n",
    "    start_dow = int(df.loc[0, 'dow'])\n",
    "    last_dow = int(df['dow'].iloc[-1])\n",
    "    last_date = df['date'].iloc[-1]\n",
    "    \n",
    "    # Insert elements in first row to ensure that dates start from Monday\n",
    "    j = 0\n",
    "    for i in range(start_dow):\n",
    "        df = df.append({'dow':j, 'date':df.date.iloc[0] + datetime.timedelta(-i-1)}, \n",
    "                       ignore_index=True, sort=True)\n",
    "        j = j+1\n",
    "        \n",
    "    # Insert elements in last row till last date is a Sunday\n",
    "    if(last_dow !=6):\n",
    "        j = 1\n",
    "        for i in range(last_dow+1, 7):\n",
    "            df = df.append({'date':last_date + datetime.timedelta(j), 'ht_idx':0}, \n",
    "                           ignore_index=True, sort=True)\n",
    "            j = j+1\n",
    "    \n",
    "    df['date_str'] = [str(x) for x in df['date']]\n",
    "    df = df.sort_values(by='date_str').reset_index(drop=True)\n",
    "    df['dow'] = [x.weekday() for x in df['date']]              # gives x-axis \n",
    "    df['ht_idx'] = [-1*(i//7) for i in range(len(df))]         # gives y-axis\n",
    "    df['date_fmt'] = [d.ctime()[4:10] for d in df['date']]\n",
    "    \n",
    "       \n",
    "    dates = go.Scatter(\n",
    "            x=df.dow,\n",
    "            y=df.ht_idx,\n",
    "            mode='text',\n",
    "            name='Dates',\n",
    "            text=df.date_fmt,\n",
    "            textfont=dict(size=16, family='Courier New, monospace'),\n",
    "            textposition='top center')\n",
    "\n",
    "    trace1 = go.Heatmap(x=df['dow'], y=df['ht_idx'], z=df[hue_var], xgap=2, ygap=2, \n",
    "                        opacity=0.6, hoverinfo='skip',\n",
    "                        colorscale=[[0, 'rgb(166,206,227)'], [0.2, 'rgb(31,120,180)'], \n",
    "                                   [0.4, 'rgb(178,223,138)'], [0.6, 'rgb(51,160,44)'], \n",
    "                                   [0.8, 'rgb(251,154,153)'], [1, 'rgb(227,26,28)']])\n",
    "\n",
    "    trace2 = go.Scatter(\n",
    "            x=df.dow,\n",
    "            y=df.ht_idx,\n",
    "            mode='text',\n",
    "            name='Sales',\n",
    "            text=df[text_var],\n",
    "            textposition='bottom center')\n",
    "    \n",
    "    layout = go.Layout(title=f'Calender view of sales', showlegend=False, yaxis=dict(autorange=True, \n",
    "                             showgrid=False, zeroline=False, showline=False, ticks='', showticklabels=False),\n",
    "                       xaxis=dict(title=\"Day of the week\",  showgrid=False, showline=False, zeroline=False, \n",
    "                             tickvals=[0, 1, 2, 3, 4, 5, 6], ticktext=['M', 'T', \"W\",\"Th\",\"F\",\"Sa\",\"Su\"]))\n",
    "\n",
    "    iplot({\"data\":[dates, trace1, trace2], \"layout\":layout})\n",
    "    "
   ]
  },
  {
   "cell_type": "markdown",
   "metadata": {},
   "source": [
    "## Create Annotated Calendar Plot"
   ]
  },
  {
   "cell_type": "code",
   "execution_count": 4,
   "metadata": {},
   "outputs": [
    {
     "name": "stdout",
     "output_type": "stream",
     "text": [
      "         date  traffic  sales\n",
      "0  2019-01-01      116    582\n",
      "1  2019-01-02       64   1928\n",
      "2  2019-01-03       42    424\n",
      "3  2019-01-04      145    530\n",
      "4  2019-01-05       64   2082\n"
     ]
    }
   ],
   "source": [
    "df = get_dummy_data(n=60, st_date=datetime.date(2019, 1, 1))\n",
    "\n",
    "print(df.head())"
   ]
  },
  {
   "cell_type": "code",
   "execution_count": 5,
   "metadata": {},
   "outputs": [
    {
     "data": {
      "application/vnd.plotly.v1+json": {
       "data": [
        {
         "mode": "text",
         "name": "Dates",
         "text": [
          "Jan 14",
          "Jan 15",
          "Jan 16",
          "Jan 17",
          "Jan 18",
          "Jan 19",
          "Jan 20",
          "Jan 21",
          "Jan 22",
          "Jan 23",
          "Jan 24",
          "Jan 25",
          "Jan 26",
          "Jan 27",
          "Jan 28",
          "Jan 29",
          "Jan 30",
          "Jan 31",
          "Feb  1",
          "Feb  2",
          "Feb  3",
          "Feb  4",
          "Feb  5",
          "Feb  6",
          "Feb  7",
          "Feb  8",
          "Feb  9",
          "Feb 10",
          "Feb 11",
          "Feb 12",
          "Feb 13",
          "Feb 14",
          "Feb 15",
          "Feb 16",
          "Feb 17"
         ],
         "textfont": {
          "family": "Courier New, monospace",
          "size": 16
         },
         "textposition": "top center",
         "type": "scatter",
         "uid": "cac21754-9694-11e9-844a-f0761cb23733",
         "x": [
          0,
          1,
          2,
          3,
          4,
          5,
          6,
          0,
          1,
          2,
          3,
          4,
          5,
          6,
          0,
          1,
          2,
          3,
          4,
          5,
          6,
          0,
          1,
          2,
          3,
          4,
          5,
          6,
          0,
          1,
          2,
          3,
          4,
          5,
          6
         ],
         "y": [
          0,
          0,
          0,
          0,
          0,
          0,
          0,
          -1,
          -1,
          -1,
          -1,
          -1,
          -1,
          -1,
          -2,
          -2,
          -2,
          -2,
          -2,
          -2,
          -2,
          -3,
          -3,
          -3,
          -3,
          -3,
          -3,
          -3,
          -4,
          -4,
          -4,
          -4,
          -4,
          -4,
          -4
         ]
        },
        {
         "colorscale": [
          [
           0,
           "rgb(166,206,227)"
          ],
          [
           0.2,
           "rgb(31,120,180)"
          ],
          [
           0.4,
           "rgb(178,223,138)"
          ],
          [
           0.6,
           "rgb(51,160,44)"
          ],
          [
           0.8,
           "rgb(251,154,153)"
          ],
          [
           1,
           "rgb(227,26,28)"
          ]
         ],
         "hoverinfo": "skip",
         "opacity": 0.6,
         "type": "heatmap",
         "uid": "cac21755-9694-11e9-b69e-f0761cb23733",
         "x": [
          0,
          1,
          2,
          3,
          4,
          5,
          6,
          0,
          1,
          2,
          3,
          4,
          5,
          6,
          0,
          1,
          2,
          3,
          4,
          5,
          6,
          0,
          1,
          2,
          3,
          4,
          5,
          6,
          0,
          1,
          2,
          3,
          4,
          5,
          6
         ],
         "xgap": 2,
         "y": [
          0,
          0,
          0,
          0,
          0,
          0,
          0,
          -1,
          -1,
          -1,
          -1,
          -1,
          -1,
          -1,
          -2,
          -2,
          -2,
          -2,
          -2,
          -2,
          -2,
          -3,
          -3,
          -3,
          -3,
          -3,
          -3,
          -3,
          -4,
          -4,
          -4,
          -4,
          -4,
          -4,
          -4
         ],
         "ygap": 2,
         "z": [
          null,
          94,
          82,
          103,
          99,
          106,
          44,
          54,
          168,
          58,
          160,
          118,
          117,
          24,
          103,
          67,
          67,
          82,
          56,
          76,
          153,
          6,
          155,
          128,
          99,
          38,
          115,
          150,
          116,
          166,
          47,
          67,
          112,
          null,
          null
         ]
        },
        {
         "mode": "text",
         "name": "Sales",
         "text": [
          null,
          1323,
          1483,
          916,
          1937,
          996,
          666,
          1026,
          1149,
          1155,
          461,
          323,
          128,
          252,
          1078,
          918,
          768,
          1064,
          1556,
          589,
          1138,
          260,
          1631,
          1003,
          1237,
          752,
          490,
          1646,
          760,
          1313,
          1261,
          783,
          591,
          null,
          null
         ],
         "textposition": "bottom center",
         "type": "scatter",
         "uid": "cac21756-9694-11e9-aaaa-f0761cb23733",
         "x": [
          0,
          1,
          2,
          3,
          4,
          5,
          6,
          0,
          1,
          2,
          3,
          4,
          5,
          6,
          0,
          1,
          2,
          3,
          4,
          5,
          6,
          0,
          1,
          2,
          3,
          4,
          5,
          6,
          0,
          1,
          2,
          3,
          4,
          5,
          6
         ],
         "y": [
          0,
          0,
          0,
          0,
          0,
          0,
          0,
          -1,
          -1,
          -1,
          -1,
          -1,
          -1,
          -1,
          -2,
          -2,
          -2,
          -2,
          -2,
          -2,
          -2,
          -3,
          -3,
          -3,
          -3,
          -3,
          -3,
          -3,
          -4,
          -4,
          -4,
          -4,
          -4,
          -4,
          -4
         ]
        }
       ],
       "layout": {
        "showlegend": false,
        "title": "Calender view of sales",
        "xaxis": {
         "showgrid": false,
         "showline": false,
         "ticktext": [
          "M",
          "T",
          "W",
          "Th",
          "F",
          "Sa",
          "Su"
         ],
         "tickvals": [
          0,
          1,
          2,
          3,
          4,
          5,
          6
         ],
         "title": "Day of the week",
         "zeroline": false
        },
        "yaxis": {
         "autorange": true,
         "showgrid": false,
         "showline": false,
         "showticklabels": false,
         "ticks": "",
         "zeroline": false
        }
       }
      },
      "text/html": [
       "<div id=\"7e81246f-0637-4128-aa01-048a939e1e9e\" style=\"height: 525px; width: 100%;\" class=\"plotly-graph-div\"></div><script type=\"text/javascript\">require([\"plotly\"], function(Plotly) { window.PLOTLYENV=window.PLOTLYENV || {};window.PLOTLYENV.BASE_URL=\"https://plot.ly\";Plotly.newPlot(\"7e81246f-0637-4128-aa01-048a939e1e9e\", [{\"mode\": \"text\", \"name\": \"Dates\", \"text\": [\"Jan 14\", \"Jan 15\", \"Jan 16\", \"Jan 17\", \"Jan 18\", \"Jan 19\", \"Jan 20\", \"Jan 21\", \"Jan 22\", \"Jan 23\", \"Jan 24\", \"Jan 25\", \"Jan 26\", \"Jan 27\", \"Jan 28\", \"Jan 29\", \"Jan 30\", \"Jan 31\", \"Feb  1\", \"Feb  2\", \"Feb  3\", \"Feb  4\", \"Feb  5\", \"Feb  6\", \"Feb  7\", \"Feb  8\", \"Feb  9\", \"Feb 10\", \"Feb 11\", \"Feb 12\", \"Feb 13\", \"Feb 14\", \"Feb 15\", \"Feb 16\", \"Feb 17\"], \"textfont\": {\"family\": \"Courier New, monospace\", \"size\": 16}, \"textposition\": \"top center\", \"x\": [0, 1, 2, 3, 4, 5, 6, 0, 1, 2, 3, 4, 5, 6, 0, 1, 2, 3, 4, 5, 6, 0, 1, 2, 3, 4, 5, 6, 0, 1, 2, 3, 4, 5, 6], \"y\": [0, 0, 0, 0, 0, 0, 0, -1, -1, -1, -1, -1, -1, -1, -2, -2, -2, -2, -2, -2, -2, -3, -3, -3, -3, -3, -3, -3, -4, -4, -4, -4, -4, -4, -4], \"type\": \"scatter\", \"uid\": \"cad06562-9694-11e9-837f-f0761cb23733\"}, {\"colorscale\": [[0, \"rgb(166,206,227)\"], [0.2, \"rgb(31,120,180)\"], [0.4, \"rgb(178,223,138)\"], [0.6, \"rgb(51,160,44)\"], [0.8, \"rgb(251,154,153)\"], [1, \"rgb(227,26,28)\"]], \"hoverinfo\": \"skip\", \"opacity\": 0.6, \"x\": [0, 1, 2, 3, 4, 5, 6, 0, 1, 2, 3, 4, 5, 6, 0, 1, 2, 3, 4, 5, 6, 0, 1, 2, 3, 4, 5, 6, 0, 1, 2, 3, 4, 5, 6], \"xgap\": 2, \"y\": [0, 0, 0, 0, 0, 0, 0, -1, -1, -1, -1, -1, -1, -1, -2, -2, -2, -2, -2, -2, -2, -3, -3, -3, -3, -3, -3, -3, -4, -4, -4, -4, -4, -4, -4], \"ygap\": 2, \"z\": [null, 94.0, 82.0, 103.0, 99.0, 106.0, 44.0, 54.0, 168.0, 58.0, 160.0, 118.0, 117.0, 24.0, 103.0, 67.0, 67.0, 82.0, 56.0, 76.0, 153.0, 6.0, 155.0, 128.0, 99.0, 38.0, 115.0, 150.0, 116.0, 166.0, 47.0, 67.0, 112.0, null, null], \"type\": \"heatmap\", \"uid\": \"cad06563-9694-11e9-a0f2-f0761cb23733\"}, {\"mode\": \"text\", \"name\": \"Sales\", \"text\": [null, 1323.0, 1483.0, 916.0, 1937.0, 996.0, 666.0, 1026.0, 1149.0, 1155.0, 461.0, 323.0, 128.0, 252.0, 1078.0, 918.0, 768.0, 1064.0, 1556.0, 589.0, 1138.0, 260.0, 1631.0, 1003.0, 1237.0, 752.0, 490.0, 1646.0, 760.0, 1313.0, 1261.0, 783.0, 591.0, null, null], \"textposition\": \"bottom center\", \"x\": [0, 1, 2, 3, 4, 5, 6, 0, 1, 2, 3, 4, 5, 6, 0, 1, 2, 3, 4, 5, 6, 0, 1, 2, 3, 4, 5, 6, 0, 1, 2, 3, 4, 5, 6], \"y\": [0, 0, 0, 0, 0, 0, 0, -1, -1, -1, -1, -1, -1, -1, -2, -2, -2, -2, -2, -2, -2, -3, -3, -3, -3, -3, -3, -3, -4, -4, -4, -4, -4, -4, -4], \"type\": \"scatter\", \"uid\": \"cad06564-9694-11e9-9e70-f0761cb23733\"}], {\"showlegend\": false, \"title\": \"Calender view of sales\", \"xaxis\": {\"showgrid\": false, \"showline\": false, \"ticktext\": [\"M\", \"T\", \"W\", \"Th\", \"F\", \"Sa\", \"Su\"], \"tickvals\": [0, 1, 2, 3, 4, 5, 6], \"title\": \"Day of the week\", \"zeroline\": false}, \"yaxis\": {\"autorange\": true, \"showgrid\": false, \"showline\": false, \"showticklabels\": false, \"ticks\": \"\", \"zeroline\": false}}, {\"showLink\": true, \"linkText\": \"Export to plot.ly\"})});</script>"
      ],
      "text/vnd.plotly.v1+html": [
       "<div id=\"7e81246f-0637-4128-aa01-048a939e1e9e\" style=\"height: 525px; width: 100%;\" class=\"plotly-graph-div\"></div><script type=\"text/javascript\">require([\"plotly\"], function(Plotly) { window.PLOTLYENV=window.PLOTLYENV || {};window.PLOTLYENV.BASE_URL=\"https://plot.ly\";Plotly.newPlot(\"7e81246f-0637-4128-aa01-048a939e1e9e\", [{\"mode\": \"text\", \"name\": \"Dates\", \"text\": [\"Jan 14\", \"Jan 15\", \"Jan 16\", \"Jan 17\", \"Jan 18\", \"Jan 19\", \"Jan 20\", \"Jan 21\", \"Jan 22\", \"Jan 23\", \"Jan 24\", \"Jan 25\", \"Jan 26\", \"Jan 27\", \"Jan 28\", \"Jan 29\", \"Jan 30\", \"Jan 31\", \"Feb  1\", \"Feb  2\", \"Feb  3\", \"Feb  4\", \"Feb  5\", \"Feb  6\", \"Feb  7\", \"Feb  8\", \"Feb  9\", \"Feb 10\", \"Feb 11\", \"Feb 12\", \"Feb 13\", \"Feb 14\", \"Feb 15\", \"Feb 16\", \"Feb 17\"], \"textfont\": {\"family\": \"Courier New, monospace\", \"size\": 16}, \"textposition\": \"top center\", \"x\": [0, 1, 2, 3, 4, 5, 6, 0, 1, 2, 3, 4, 5, 6, 0, 1, 2, 3, 4, 5, 6, 0, 1, 2, 3, 4, 5, 6, 0, 1, 2, 3, 4, 5, 6], \"y\": [0, 0, 0, 0, 0, 0, 0, -1, -1, -1, -1, -1, -1, -1, -2, -2, -2, -2, -2, -2, -2, -3, -3, -3, -3, -3, -3, -3, -4, -4, -4, -4, -4, -4, -4], \"type\": \"scatter\", \"uid\": \"cad06562-9694-11e9-837f-f0761cb23733\"}, {\"colorscale\": [[0, \"rgb(166,206,227)\"], [0.2, \"rgb(31,120,180)\"], [0.4, \"rgb(178,223,138)\"], [0.6, \"rgb(51,160,44)\"], [0.8, \"rgb(251,154,153)\"], [1, \"rgb(227,26,28)\"]], \"hoverinfo\": \"skip\", \"opacity\": 0.6, \"x\": [0, 1, 2, 3, 4, 5, 6, 0, 1, 2, 3, 4, 5, 6, 0, 1, 2, 3, 4, 5, 6, 0, 1, 2, 3, 4, 5, 6, 0, 1, 2, 3, 4, 5, 6], \"xgap\": 2, \"y\": [0, 0, 0, 0, 0, 0, 0, -1, -1, -1, -1, -1, -1, -1, -2, -2, -2, -2, -2, -2, -2, -3, -3, -3, -3, -3, -3, -3, -4, -4, -4, -4, -4, -4, -4], \"ygap\": 2, \"z\": [null, 94.0, 82.0, 103.0, 99.0, 106.0, 44.0, 54.0, 168.0, 58.0, 160.0, 118.0, 117.0, 24.0, 103.0, 67.0, 67.0, 82.0, 56.0, 76.0, 153.0, 6.0, 155.0, 128.0, 99.0, 38.0, 115.0, 150.0, 116.0, 166.0, 47.0, 67.0, 112.0, null, null], \"type\": \"heatmap\", \"uid\": \"cad06563-9694-11e9-a0f2-f0761cb23733\"}, {\"mode\": \"text\", \"name\": \"Sales\", \"text\": [null, 1323.0, 1483.0, 916.0, 1937.0, 996.0, 666.0, 1026.0, 1149.0, 1155.0, 461.0, 323.0, 128.0, 252.0, 1078.0, 918.0, 768.0, 1064.0, 1556.0, 589.0, 1138.0, 260.0, 1631.0, 1003.0, 1237.0, 752.0, 490.0, 1646.0, 760.0, 1313.0, 1261.0, 783.0, 591.0, null, null], \"textposition\": \"bottom center\", \"x\": [0, 1, 2, 3, 4, 5, 6, 0, 1, 2, 3, 4, 5, 6, 0, 1, 2, 3, 4, 5, 6, 0, 1, 2, 3, 4, 5, 6, 0, 1, 2, 3, 4, 5, 6], \"y\": [0, 0, 0, 0, 0, 0, 0, -1, -1, -1, -1, -1, -1, -1, -2, -2, -2, -2, -2, -2, -2, -3, -3, -3, -3, -3, -3, -3, -4, -4, -4, -4, -4, -4, -4], \"type\": \"scatter\", \"uid\": \"cad06564-9694-11e9-9e70-f0761cb23733\"}], {\"showlegend\": false, \"title\": \"Calender view of sales\", \"xaxis\": {\"showgrid\": false, \"showline\": false, \"ticktext\": [\"M\", \"T\", \"W\", \"Th\", \"F\", \"Sa\", \"Su\"], \"tickvals\": [0, 1, 2, 3, 4, 5, 6], \"title\": \"Day of the week\", \"zeroline\": false}, \"yaxis\": {\"autorange\": true, \"showgrid\": false, \"showline\": false, \"showticklabels\": false, \"ticks\": \"\", \"zeroline\": false}}, {\"showLink\": true, \"linkText\": \"Export to plot.ly\"})});</script>"
      ]
     },
     "metadata": {},
     "output_type": "display_data"
    }
   ],
   "source": [
    "st_date = datetime.date(2019, 1, 15)\n",
    "end_date = datetime.date(2019, 2, 15)\n",
    "create_calendar(df, st_date, end_date, text_var='sales', hue_var='traffic')"
   ]
  },
  {
   "cell_type": "markdown",
   "metadata": {},
   "source": [
    "![title](calender.png)"
   ]
  },
  {
   "cell_type": "markdown",
   "metadata": {},
   "source": [
    "Dates not falling between st_date and end_date are shown with no values"
   ]
  }
 ],
 "metadata": {
  "kernelspec": {
   "display_name": "Python 3",
   "language": "python",
   "name": "python3"
  },
  "language_info": {
   "codemirror_mode": {
    "name": "ipython",
    "version": 3
   },
   "file_extension": ".py",
   "mimetype": "text/x-python",
   "name": "python",
   "nbconvert_exporter": "python",
   "pygments_lexer": "ipython3",
   "version": "3.6.5"
  }
 },
 "nbformat": 4,
 "nbformat_minor": 2
}
